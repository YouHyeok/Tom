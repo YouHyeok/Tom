{
 "cells": [
  {
   "cell_type": "code",
   "execution_count": 76,
   "metadata": {},
   "outputs": [],
   "source": [
    "import os\n",
    "import json"
   ]
  },
  {
   "cell_type": "code",
   "execution_count": 77,
   "metadata": {},
   "outputs": [],
   "source": [
    "users = [\"_tutorials\", \"newblog\"]\n",
    "user = users[1]"
   ]
  },
  {
   "cell_type": "code",
   "execution_count": 78,
   "metadata": {},
   "outputs": [],
   "source": [
    "with open('/root/Repos/%s/package.json' % user) as f:\n",
    "    json_object = json.load(f)"
   ]
  },
  {
   "cell_type": "code",
   "execution_count": 79,
   "metadata": {},
   "outputs": [
    {
     "data": {
      "text/plain": [
       "{'test': 'echo \"Error: no test specified\" && exit 1',\n",
       " 'user_name': 'eddylily',\n",
       " 'user_email': 'edcreativity@gmail.com',\n",
       " 'java': \"npm run java --prefix ./node_modules/docu-notion && git fetch && git merge remotes/origin/main && git add ./docs/Java && git commit -m 'upload Java posts' && git push\",\n",
       " 'projects': \"npm run projects --prefix ./node_modules/docu-notion && git fetch && git merge remotes/origin/main && git add ./docs/Projects && git commit -m 'upload Projects posts' && git push\"}"
      ]
     },
     "execution_count": 79,
     "metadata": {},
     "output_type": "execute_result"
    }
   ],
   "source": [
    "json_object['scripts']"
   ]
  },
  {
   "cell_type": "code",
   "execution_count": 80,
   "metadata": {},
   "outputs": [
    {
     "name": "stdout",
     "output_type": "stream",
     "text": [
      "java\n",
      "\n",
      "> newblog@1.0.0 java\n",
      "> npm run java --prefix ./node_modules/docu-notion && git fetch && git merge remotes/origin/main && git add ./docs/Java && git commit -m 'upload Java posts' && git push\n",
      "\n",
      "\n",
      "> java\n",
      "> npm run ts -- -n secret_W3PcnrQMpgcphMAT8kCj8K7lX2XyMFQQHo0Dm9M7vAJ -r ce88abe62096405fb1890ec56dde6d17 -m '../../docs/Java'\n",
      "\n",
      "\n",
      "> ts\n",
      "> tsc && rimraf ./docs/ && cross-var node dist/index.js -n secret_W3PcnrQMpgcphMAT8kCj8K7lX2XyMFQQHo0Dm9M7vAJ -r ce88abe62096405fb1890ec56dde6d17 -m ../../docs/Java\n",
      "\n",
      "docu-notion version undefined\n",
      "\u001b[90mundefined\u001b[39m\n",
      "Connecting to Notion...\n",
      "\u001b[34mStage 1: walk children of the page named 'Outline', looking for pages...\u001b[39m\n",
      "Looking for children and links from /Java\n",
      "Looking for children and links from /Outline\n",
      "Found 1 pages\n",
      "\n",
      "\u001b[34mStage 2: convert 1 Notion pages to markdown and save locally...\u001b[39m\n",
      "Reading & converting page /New 연산자 (\u001b[34m/\u001b[39m)\n",
      "Finished processing 1 pages\n",
      "{\"output_normally\":1,\"skipped_because_empty\":0,\"skipped_because_status\":0,\"skipped_because_level_cannot_have_content\":0}\n",
      "\n",
      "\u001b[34mStage 3: clean up old files & images...\u001b[39m\n",
      "\n",
      "docu-notion Finished.\n",
      "Already up to date.\n",
      "[main 4f2cb18] upload Java posts\n",
      " 1 file changed, 3 insertions(+)\n"
     ]
    },
    {
     "name": "stderr",
     "output_type": "stream",
     "text": [
      "To github.com-eddylily:eddylily/newblog.git\n",
      "   4c92660..4f2cb18  main -> main\n"
     ]
    }
   ],
   "source": [
    "# os.system(\"cd /root/Repos/_tutorials && npm run init\")\n",
    "os.system(\"cd /root/Repos/%s/ && git config --local user.name \\\"%s\\\" && git config --local user.email \\\"%s\\\"\" % (user, json_object['scripts']['user_name'], json_object['scripts']['user_email']))\n",
    "\n",
    "for key, values in json_object['scripts'].items():\n",
    "    if \"--prefix\" in values:\n",
    "        if key == \"java\":\n",
    "            print(key)\n",
    "            os.system(\"cd /root/Repos/%s/ && npm run %s\" % (user, key))\n"
   ]
  },
  {
   "cell_type": "code",
   "execution_count": null,
   "metadata": {},
   "outputs": [],
   "source": []
  }
 ],
 "metadata": {
  "kernelspec": {
   "display_name": "PAPERS",
   "language": "python",
   "name": "papers"
  },
  "language_info": {
   "codemirror_mode": {
    "name": "ipython",
    "version": 3
   },
   "file_extension": ".py",
   "mimetype": "text/x-python",
   "name": "python",
   "nbconvert_exporter": "python",
   "pygments_lexer": "ipython3",
   "version": "3.8.17"
  },
  "orig_nbformat": 4
 },
 "nbformat": 4,
 "nbformat_minor": 2
}
